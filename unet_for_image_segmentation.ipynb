{
 "cells": [
  {
   "cell_type": "markdown",
   "metadata": {
    "colab_type": "text",
    "id": "zk4AUhM4G27s"
   },
   "source": [
    "This notebook is run on my personal computer to extract the data. Each nii file has roughly two parts. The first part is the 3D array, and the second part the ''header'', which contains technical information about the MRI images. The default type of the data, which is uint16, is learned from the header, but other technical info is simply abandoned. \n",
    "\n",
    "Among the FZMC001~FZMC040 + FZMC042 datasets, FZMC038 has no ''label.nii'', and is deleted and replaced by FZMC042. Thus we have 40 observations in total.\n",
    "\n",
    "The raw data of the 40 obs is rearranged into 5 arrays, all in the shape of $40*320*260*72$.\n",
    "\n",
    "Dimensional mismatch is frequently observed in the data. For example, for no. 5,6,16,39, 'artery' and 'label' has different shapes. Since we will mainly focus on the artery phase, these 4 obs are deleted. However, 'delay' is especially problematic: FZMC003 has one more mismatch in ''delay.nii''. Since our main focus may be the artery phase, ''delay'' is not included in the arrays."
   ]
  },
  {
   "cell_type": "code",
   "execution_count": 1,
   "metadata": {
    "ExecuteTime": {
     "end_time": "2019-12-08T16:50:11.578308Z",
     "start_time": "2019-12-08T16:50:11.182268Z"
    },
    "colab": {},
    "colab_type": "code",
    "id": "QSCXkrXiG27u"
   },
   "outputs": [],
   "source": [
    "import os\n",
    "import numpy as np\n",
    "import nibabel as nib\n",
    "import matplotlib.pyplot as plt\n",
    "%matplotlib inline"
   ]
  },
  {
   "cell_type": "code",
   "execution_count": 2,
   "metadata": {
    "ExecuteTime": {
     "end_time": "2019-12-08T18:13:59.140959Z",
     "start_time": "2019-12-08T18:13:59.132855Z"
    },
    "colab": {
     "base_uri": "https://localhost:8080/",
     "height": 433
    },
    "colab_type": "code",
    "id": "3SoXA9vWG27x",
    "outputId": "50036a1a-ee29-4e3a-d68a-a6a18e22378a"
   },
   "outputs": [],
   "source": [
    "img = nib.load('../data/raw/FZMC001/artery.nii')"
   ]
  },
  {
   "cell_type": "code",
   "execution_count": 3,
   "metadata": {
    "ExecuteTime": {
     "end_time": "2019-12-08T18:24:09.742944Z",
     "start_time": "2019-12-08T18:24:09.211683Z"
    },
    "colab": {},
    "colab_type": "code",
    "id": "LtpwAVxLG274"
   },
   "outputs": [
    {
     "data": {
      "text/plain": [
       "<matplotlib.image.AxesImage at 0x1697d81fe10>"
      ]
     },
     "execution_count": 3,
     "metadata": {},
     "output_type": "execute_result"
    },
    {
     "data": {
      "image/png": "[encoded data removed]",
      "text/plain": [
       "<Figure size 432x288 with 2 Axes>"
      ]
     },
     "metadata": {
      "needs_background": "light"
     },
     "output_type": "display_data"
    }
   ],
   "source": [
    "fig, (ax1, ax2) = plt.subplots(1, 2)\n",
    "ax1.imshow(img.get_fdata(dtype=np.float64)[:,:,50],cmap='gray')\n",
    "ax2.imshow(nib.load('../data/raw/FZMC001/label.nii').get_fdata(dtype=np.float64)[:,:,50],cmap='gray')"
   ]
  },
  {
   "cell_type": "code",
   "execution_count": 4,
   "metadata": {
    "ExecuteTime": {
     "end_time": "2019-12-08T18:56:38.492035Z",
     "start_time": "2019-12-08T18:56:31.077177Z"
    },
    "colab": {},
    "colab_type": "code",
    "id": "TnAYG3LKG276"
   },
   "outputs": [],
   "source": [
    "j='artery'\n",
    "A = np.zeros((36, 320, 260, 72), dtype=np.uint16)\n",
    "ptr = 0\n",
    "for i in range(1, 41):\n",
    "    if i in (5,6,16,39):\n",
    "        continue\n",
    "    A[ptr,:,:,:] = np.asarray(nib.load('../data/raw/FZMC0{:02d}/{}.nii'\\\n",
    "                                       .format(i,j)).get_fdata(), dtype=np.uint16).copy()\n",
    "    ptr += 1\n",
    "np.save(\"{}.npy\".format(j),A)"
   ]
  },
  {
   "cell_type": "code",
   "execution_count": 5,
   "metadata": {
    "ExecuteTime": {
     "end_time": "2019-12-08T18:56:49.705274Z",
     "start_time": "2019-12-08T18:56:43.526673Z"
    },
    "colab": {},
    "colab_type": "code",
    "id": "bt--rZcGG278"
   },
   "outputs": [],
   "source": [
    "j='label'\n",
    "L = np.zeros((36, 320, 260, 72), dtype=np.uint16)\n",
    "ptr = 0\n",
    "for i in range(1, 41):\n",
    "    if i in (5,6,16,39):\n",
    "        continue\n",
    "    L[ptr,:,:,:] = np.asarray(nib.load('../data/raw/FZMC0{:02d}/{}.nii'\\\n",
    "                                       .format(i,j)).get_fdata(), dtype=np.uint16).copy()\n",
    "    ptr += 1\n",
    "np.save(\"{}.npy\".format(j),L)"
   ]
  },
  {
   "cell_type": "code",
   "execution_count": 6,
   "metadata": {
    "ExecuteTime": {
     "end_time": "2019-12-08T18:46:06.095821Z",
     "start_time": "2019-12-08T18:46:06.075617Z"
    },
    "colab": {},
    "colab_type": "code",
    "id": "8srO-AmDG28F"
   },
   "outputs": [],
   "source": [
    "img_artery = nib.load('../data/raw/FZMC003/artery.nii')\n",
    "img_delay = nib.load('../data/raw/FZMC003/delay.nii')"
   ]
  },
  {
   "cell_type": "markdown",
   "metadata": {},
   "source": [
    "### Load Data\n",
    "- load numpy arrays\n",
    "- convert into Dataset, perform transformation\n",
    "- split into training set and testing set\n",
    "- place into DataLoader"
   ]
  },
  {
   "cell_type": "code",
   "execution_count": 7,
   "metadata": {},
   "outputs": [],
   "source": [
    "import torchvision\n",
    "import torch\n",
    "import torch.nn as nn\n",
    "import torch.nn.functional as F\n",
    "import torch.optim as optim\n",
    "from torchvision import transforms, utils\n",
    "from torch.utils.data import Dataset, DataLoader"
   ]
  },
  {
   "cell_type": "code",
   "execution_count": 8,
   "metadata": {
    "colab": {},
    "colab_type": "code",
    "id": "xcxgZ60oNpOq"
   },
   "outputs": [],
   "source": [
    "#---Load Data---#\n",
    "\n",
    "# artery = np.load('../data/artery.npy')\n",
    "artery = A"
   ]
  },
  {
   "cell_type": "code",
   "execution_count": 9,
   "metadata": {},
   "outputs": [],
   "source": [
    "# label = np.load('../data/label.npy')\n",
    "label = L"
   ]
  },
  {
   "cell_type": "code",
   "execution_count": 10,
   "metadata": {},
   "outputs": [],
   "source": [
    "class MyDataset(Dataset):\n",
    "    def __init__(self, data, target, transform=None):\n",
    "        self.data = torch.from_numpy(np.array(data, dtype='int32'))\n",
    "        self.target = torch.from_numpy(np.array(target, dtype='int32'))\n",
    "        self.transform = transform\n",
    "        \n",
    "    def __getitem__(self, index):\n",
    "        x = self.data[index]\n",
    "        y = self.target[index]\n",
    "        \n",
    "        if self.transform:\n",
    "            x = self.transform(x)\n",
    "        \n",
    "        return x, y\n",
    "        \n",
    "    def __len__(self):\n",
    "        return len(self.data)"
   ]
  },
  {
   "cell_type": "code",
   "execution_count": 11,
   "metadata": {},
   "outputs": [],
   "source": [
    "dataset = MyDataset(artery, label)"
   ]
  },
  {
   "cell_type": "code",
   "execution_count": 12,
   "metadata": {},
   "outputs": [],
   "source": [
    "train_size = int(0.8 * len(dataset))\n",
    "test_size = len(dataset) - train_size\n",
    "train_dataset, test_dataset = torch.utils.data.random_split(dataset, [train_size, test_size])"
   ]
  },
  {
   "cell_type": "code",
   "execution_count": 13,
   "metadata": {},
   "outputs": [],
   "source": [
    "train_loader = torch.utils.data.DataLoader(train_dataset, batch_size=1,\\\n",
    "                                        shuffle=True, num_workers=0)\n",
    "test_loader = torch.utils.data.DataLoader(test_dataset, batch_size=1,\\\n",
    "                                        shuffle=True, num_workers=0)"
   ]
  },
  {
   "cell_type": "markdown",
   "metadata": {},
   "source": [
    "### Create Network\n",
    "- Convolution blocks (contraction) -> Up blocks (expansive)\n",
    "- 3 x 3 convolution\n",
    "- ReLU as activation function\n",
    "- 2 x 2 max pooling with stride of 2\n",
    "- channels: 1 -> 64 -> 128 -> 256 -> 128 -> 64 -> 1\n",
    "- soft max applied to final feature map"
   ]
  },
  {
   "cell_type": "code",
   "execution_count": 14,
   "metadata": {},
   "outputs": [],
   "source": [
    "#---Create Network---#\n",
    "\n",
    "class ConvBlock(nn.Module):    \n",
    "    def __init__(self, in_size, out_size, kernel_size=3, activation=F.relu):      \n",
    "        super(ConvBlock, self).__init__()        \n",
    "        self.conv = nn.Conv3d(in_size, out_size, kernel_size)\n",
    "        self.conv2 = nn.Conv3d(out_size, out_size, kernel_size)\n",
    "        self.activation = activation\n",
    "\n",
    "    def forward(self, x):\n",
    "        out = self.activation(self.conv(x))\n",
    "        out = self.activation(self.conv2(out))\n",
    "        return out\n",
    "\n",
    "\n",
    "class UpBlock(nn.Module):\n",
    "    def __init__(self, in_size, out_size, kernel_size=3, activation=F.relu, space_dropout=False):\n",
    "        super(UpBlock, self).__init__()\n",
    "        self.up = nn.ConvTranspose3d(in_size, out_size, 2, stride=2)\n",
    "        self.conv = nn.Conv3d(in_size, out_size, kernel_size)\n",
    "        self.conv2 = nn.Conv3d(out_size, out_size, kernel_size)\n",
    "        self.activation = activation\n",
    "\n",
    "    def center_crop(self, layer, target_size):\n",
    "        batch_size, n_channels, layer_width, layer_height = layer.size()\n",
    "        base = (layer_width - target_size) // 2\n",
    "        return layer[:, :, base:(base + target_size), base:(base + target_size)]\n",
    "\n",
    "    def forward(self, x, bridge):\n",
    "        up = self.up(x)\n",
    "        # Crop feature maps of corresponding contraction layer to same size as current layer\n",
    "        crop1 = self.center_crop(bridge, up.size()[2])\n",
    "        # Append feature maps of the corresponding contraction layer\n",
    "        out = torch.cat([up, crop1], 1)\n",
    "        out = self.activation(self.conv(out))\n",
    "        out = self.activation(self.conv2(out))\n",
    "        return out\n",
    "\n",
    "\n",
    "class UNet(nn.Module):\n",
    "    def __init__(self):        \n",
    "        super(UNet, self).__init__()\n",
    "        self.activation = F.relu        \n",
    "        self.pool1 = nn.MaxPool3d(2)\n",
    "        self.pool2 = nn.MaxPool3d(2)\n",
    "        self.pool3 = nn.MaxPool3d(2)\n",
    "        self.conv_block1_64 = ConvBlock(1, 64)\n",
    "        self.conv_block64_128 = ConvBlock(64, 128)\n",
    "        self.conv_block128_256 = ConvBlock(128, 256)\n",
    "        self.up_block256_128 = UpBlock(256, 128)\n",
    "        self.up_block128_64 = UpBlock(128, 64)\n",
    "        self.last = nn.Conv3d(64, 4, 1)\n",
    "\n",
    "    def forward(self, x):\n",
    "        block1 = self.conv_block1_64(x)\n",
    "        pool1 = self.pool1(block1)\n",
    "        block2 = self.conv_block64_128(pool1)\n",
    "        pool2 = self.pool2(block2)\n",
    "        block3 = self.conv_block128_256(pool2)\n",
    "        pool3 = self.pool3(block3)\n",
    "        up1 = self.up_block256_128(block3, block2)\n",
    "        up2 = self.up_block128_64(up1, block1)\n",
    "        return F.log_softmax(self.last(up2))"
   ]
  },
  {
   "cell_type": "code",
   "execution_count": 15,
   "metadata": {},
   "outputs": [],
   "source": [
    "net = UNet()\n",
    "criterion = nn.CrossEntropyLoss()\n",
    "optimizer = optim.SGD(net.parameters(), lr=0.001, momentum=0.9)\n",
    "loss_trajectory = [0]"
   ]
  },
  {
   "cell_type": "markdown",
   "metadata": {},
   "source": [
    "### Train Network"
   ]
  },
  {
   "cell_type": "code",
   "execution_count": null,
   "metadata": {},
   "outputs": [],
   "source": [
    "#---Train Network---#\n",
    "\n",
    "for epoch in range(3):  # loop over the dataset multiple times\n",
    "    running_loss = 0.0\n",
    "    for i, data in enumerate(train_loader, 0):\n",
    "        # get the inputs        \n",
    "        inputs, labels = data\n",
    "        inputs = torch.unsqueeze(inputs, 0)\n",
    "        labels = torch.unsqueeze(labels, 0)\n",
    "\n",
    "        # zero the parameter gradients\n",
    "        optimizer.zero_grad()\n",
    "\n",
    "        # forward + backward + optimize\n",
    "        outputs = net(inputs.float()).cuda()\n",
    "        loss = criterion(outputs, labels)\n",
    "        loss.backward()\n",
    "        optimizer.step()\n",
    "\n",
    "        # print statistics\n",
    "        running_loss += loss.item()\n",
    "        loss_trajectory[-1] += loss.item()\n",
    "        if i % 200 == 199:\n",
    "            loss_trajectory.append(0)\n",
    "        if i % 2000 == 1999:    # print every 2000 mini-batches\n",
    "            print('[%d, %5d] loss: %.3f' %\n",
    "                (epoch + 1, i + 1, running_loss / 2000))\n",
    "            running_loss = 0.0"
   ]
  },
  {
   "cell_type": "code",
   "execution_count": null,
   "metadata": {},
   "outputs": [],
   "source": [
    "plt.plot(loss_trajectory[:-1])\n",
    "plt.title(\"Learning Curve\")"
   ]
  }
 ],
 "metadata": {
  "colab": {
   "name": "data_cleaning.ipynb",
   "provenance": []
  },
  "kernelspec": {
   "display_name": "Python 3",
   "language": "python",
   "name": "python3"
  },
  "language_info": {
   "codemirror_mode": {
    "name": "ipython",
    "version": 3
   },
   "file_extension": ".py",
   "mimetype": "text/x-python",
   "name": "python",
   "nbconvert_exporter": "python",
   "pygments_lexer": "ipython3",
   "version": "3.6.5"
  },
  "toc": {
   "base_numbering": 1,
   "nav_menu": {},
   "number_sections": true,
   "sideBar": true,
   "skip_h1_title": false,
   "title_cell": "Table of Contents",
   "title_sidebar": "Contents",
   "toc_cell": false,
   "toc_position": {},
   "toc_section_display": true,
   "toc_window_display": false
  },
  "varInspector": {
   "cols": {
    "lenName": 16,
    "lenType": 16,
    "lenVar": 40
   },
   "kernels_config": {
    "python": {
     "delete_cmd_postfix": "",
     "delete_cmd_prefix": "del ",
     "library": "var_list.py",
     "varRefreshCmd": "print(var_dic_list())"
    },
    "r": {
     "delete_cmd_postfix": ") ",
     "delete_cmd_prefix": "rm(",
     "library": "var_list.r",
     "varRefreshCmd": "cat(var_dic_list()) "
    }
   },
   "types_to_exclude": [
    "module",
    "function",
    "builtin_function_or_method",
    "instance",
    "_Feature"
   ],
   "window_display": false
  }
 },
 "nbformat": 4,
 "nbformat_minor": 1
}
